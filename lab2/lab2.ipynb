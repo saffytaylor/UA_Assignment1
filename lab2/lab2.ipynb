{
 "cells": [
  {
   "cell_type": "markdown",
   "id": "d7528258-70f2-4ff1-8136-a61a4b79c3d5",
   "metadata": {},
   "source": [
    "# GG4257 - Urban Analytics\n",
    "---\n",
    "## Assignment 1 : Lab 2 Challenges\n",
    "---\n"
   ]
  },
  {
   "cell_type": "markdown",
   "id": "2744be94-f18b-4c3e-bbe1-6829e5a0b059",
   "metadata": {},
   "source": [
    "### Challenge No 1:\n",
    "\n",
    "This challenge included 4 parts to it, so I will tackle each part one at a time.\n",
    "\n",
    "1. Using a Dictionary, create a dataframe (table), with at least 4 columns and more than 100 rows. How come you can create this among data from scratch without defining every single row of data? \n"
   ]
  },
  {
   "cell_type": "code",
   "execution_count": 2,
   "id": "ec77e4ea-c3bc-4648-a4ac-f18a968e4ae0",
   "metadata": {},
   "outputs": [],
   "source": [
    "import pandas as pd\n",
    "\n",
    "df = pd.DataFrame(columns = ['a', 'b', 'c', 'd'], index = range(100))"
   ]
  },
  {
   "cell_type": "markdown",
   "id": "1696fba0-f195-4857-8d35-221233a545f4",
   "metadata": {},
   "source": [
    "2. Using the appropriate method, create a new DataFrame containing only the first 30 rows and the first 3 columns of the original DataFrame. Name this new DataFrame subset_df.\n"
   ]
  },
  {
   "cell_type": "code",
   "execution_count": null,
   "id": "d5923a9d-d850-4f7b-b5d3-d809dd870f09",
   "metadata": {},
   "outputs": [],
   "source": []
  },
  {
   "cell_type": "markdown",
   "id": "463850af-eb9b-4655-8832-d71f32c26bd7",
   "metadata": {},
   "source": [
    "3. Using the appropriate method, filter the rows from the original dataframe where a numerical attribute(column) is greater than a particular numerical value, and find another categorical attribute that is equal to a specific string or text. Name this new DataFrame filtered_df.\n"
   ]
  },
  {
   "cell_type": "code",
   "execution_count": null,
   "id": "3b4d8095-3ba9-408c-b5f2-f707c14a7dc8",
   "metadata": {},
   "outputs": [],
   "source": []
  },
  {
   "cell_type": "markdown",
   "id": "3265c5af-dc00-4585-b381-a31078298ff4",
   "metadata": {},
   "source": [
    "4. Check this website https://pandas.pydata.org/pandas-docs/stable/reference/api/pandas.DataFrame.mean.html and apply the methods, mean, standard deviation, group_by to run fundamental statistical analysis of your created data frame."
   ]
  },
  {
   "cell_type": "code",
   "execution_count": null,
   "id": "18d6b4a1-be61-451a-8ed2-3fc53fc8f570",
   "metadata": {},
   "outputs": [],
   "source": []
  }
 ],
 "metadata": {
  "kernelspec": {
   "display_name": "Python 3 (ipykernel)",
   "language": "python",
   "name": "python3"
  },
  "language_info": {
   "codemirror_mode": {
    "name": "ipython",
    "version": 3
   },
   "file_extension": ".py",
   "mimetype": "text/x-python",
   "name": "python",
   "nbconvert_exporter": "python",
   "pygments_lexer": "ipython3",
   "version": "3.11.6"
  }
 },
 "nbformat": 4,
 "nbformat_minor": 5
}
