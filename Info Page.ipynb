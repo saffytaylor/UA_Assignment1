{
 "cells": [
  {
   "cell_type": "markdown",
   "id": "2d2618ce-a63c-44fd-83d7-1a77306e0e35",
   "metadata": {},
   "source": [
    "# GG4257 - Urban Analytics: A Toolkit for Sustainable Urban Development\n",
    "## Lab Assignment No 1: Handling and GeoVisualisation of Urban Data\n",
    "\n",
    "# General Information\n",
    "- **Matriculation No.:** 200022090\n",
    "- **Degree Programme:** Geography MA\n",
    "- **Deadline Date:** 22 Feb 2024 - Midday\n",
    "\n",
    "# GitHub Repository\n",
    "- **GitHub Link:** https://github.com/saffytaylor/UA_Assignment1\n",
    "\n",
    "# Declaration\n",
    "\n",
    "In submitting this assignment, I hereby confirm that I have read the University's statement on Good Academic Practice. The following work is my own. Significant academic debts and borrowings have been properly acknowledged and referenced."
   ]
  },
  {
   "cell_type": "markdown",
   "id": "aa70caf5-9be1-4d79-8cbf-c0c4de99041c",
   "metadata": {},
   "source": [
    "# Table of Content\n",
    "1. <a href=\"#Introduction\">Introduction</a>\n",
    "\n",
    "2. <a href=\"lab1/lab1.ipynb###Assignment-1\">Lab No 1: Python Recap</a>\n",
    "   - <a href=\"lab1/lab1.ipynb#Challenge-1:\">Challenge 1</a>\n",
    "   - <a href=\"lab1/lab1.ipynb#Challenge-2:\">Challenge 2</a>\n",
    "   - <a href=\"lab1/lab1.ipynb#Challenge-3:\">Challenge 3</a>\n",
    "   - <a href=\"lab1/lab1.ipynb#Challenge-4:\">Challenge 4</a>\n",
    "   - <a href=\"lab1/lab1.ipynb#Challenge-5:\">Challenge 5</a>\n",
    "   - <a href=\"lab1/lab1.ipynb#Challenge-6:\">Challenge 6</a>\n",
    "   - <a href=\"lab1/lab1.ipynb#Challenge-7:\">Challenge 7</a>\n",
    "   - <a href=\"lab1/lab1.ipynb#Challenge-8:\">Challenge 8</a>\n",
    "   - <a href=\"lab1/lab1.ipynb#Challenge-9:\">Challenge 9</a>\n",
    "\n",
    "\n",
    "\n",
    "3. <a href=\"lab2/lab2.ipynb###Assignment-1\">Lab No 2: Data Manipulation and Working with Web Services</a>\n",
    "   - <a href=\"lab2/lab2.ipynb#Challenge-1:\">Challenge 1</a>\n",
    "   - <a href=\"lab_2/lab_2.ipynb#Challenge-2:\">Challenge 2</a>\n",
    "\n",
    "\n",
    "\n",
    "4. <a href=\"lab3/lab3.ipynb###Assignment-1\">Lab No 3: Geovisualization Techniques - Data Viz - Part 1</a>\n",
    "   - <a href=\"lab3/lab3.ipynb#Challenge-1:\">Challenge 1</a>\n",
    "   - <a href=\"lab3/lab3.ipynb#Challenge-2:\">Challenge 2</a>\n",
    "   - <a href=\"lab3/lab3.ipynb#Challenge-3:\">Challenge 3</a>\n",
    "   - <a href=\"lab3/lab3.ipynb#Challenge-4:\">Challenge 4</a>\n",
    "\n",
    "\n",
    "\n",
    "5. <a href=\"lab4/lab4.ipynb###Assignment-1\">Lab No 4: Geovisualization Techniques - Apps - Part 2</a>\n",
    "   - <a href=\"lab4/lab4.ipynb#Challenge-1:\">Challenge 1</a>\n",
    "   - <a href=\"lab4/lab4.ipynb#Challenge-2:\">Challenge 2</a>\n",
    "   - <a href=\"lab4/lab4.ipynb#Challenge-3:\">Challenge 3</a>\n",
    "\n",
    "\n",
    "\n",
    "6. <a href=\"#Final-thoughts\">Final thoughts</a>\n"
   ]
  },
  {
   "cell_type": "markdown",
   "id": "c8f9eea7-8204-485c-ab28-e33c19842cc9",
   "metadata": {},
   "source": [
    "# Introduction\n",
    "\n",
    "Welcome to this first Lab Assignment!\n",
    "To be able to run this code, the first thing you'll need to do is clone the repository onto your own drive, and launch it using whichever platform suits best, whether this be jupyter notebook or visual code studio, the world is your oyster! However, to run the code successfully, there is a little bit of data that need to be downloaded. All data required to run this code is stored in a public Google Drive folder, accessible by the url link below!\n",
    "\n",
    "URL: https://drive.google.com/drive/folders/1bx5e9z-xmr8qrrYtgBfxilTMvkd1UoJg?usp=drive_link\n",
    "\n",
    "To be able to use these files, you'll need to download the them from this folder. Each folder is labeled as the data for a particular lab, you will need to take each data folder and place it in it's corresponding lab folder within your cloned reposititory, and then it should all work fine! \n",
    "\n",
    "Happy coding!"
   ]
  },
  {
   "cell_type": "markdown",
   "id": "d5971a95-70bc-441a-b73e-97e44508b513",
   "metadata": {},
   "source": [
    "# Final thoughts\n",
    "I personally found a lot of the work here fairly tricky. My computer runs slow at the best of times and there were certain parts of these notebooks that my laptop just couldn't keep up with. E.g., you'll notice that for the final challenge of Lab 3, there's no image presented for a map output. This is because my jupyter hub couldn't handle the processing of about 14 million records, and the kernel crashed before I even managed to see if the cell would work or if it would error.\n",
    "\n",
    "I found trying to find a dataset with other 5 million records a challenge, and in the end I found one but it didn't have a geometry or anything that could be used to make a geometry column, but I found a similar shapefile that could be joined with the dataset and so set about joining those and making a GeoDataFrame from that. It worked, but it was a lot of extra work and I can't be sure if it paid off in the end since my computer won't print the map for that challenge.  \n",
    "\n",
    "There were also some more basic procedures that my laptop didn't seem to like, anytime I had to change a datatype, I ended up having to create a new column for the data as the datatype I was after, drop the old column, and rename the new one. \n",
    "\n",
    "Other challenges such as Lab 3 Challenge 1 were just difficult to approach due to the confusion over what the task was asking, and the conflicting information in the clarifications. \n",
    "\n",
    "Overall, it was challenging but all in all I did enjoy this assignment, and found it really satisfying once solutions were found. "
   ]
  }
 ],
 "metadata": {
  "kernelspec": {
   "display_name": "Python 3 (ipykernel)",
   "language": "python",
   "name": "python3"
  },
  "language_info": {
   "codemirror_mode": {
    "name": "ipython",
    "version": 3
   },
   "file_extension": ".py",
   "mimetype": "text/x-python",
   "name": "python",
   "nbconvert_exporter": "python",
   "pygments_lexer": "ipython3",
   "version": "3.11.6"
  }
 },
 "nbformat": 4,
 "nbformat_minor": 5
}
