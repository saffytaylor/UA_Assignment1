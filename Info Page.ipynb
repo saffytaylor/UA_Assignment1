{
 "cells": [
  {
   "cell_type": "markdown",
   "id": "45a52681-5284-4beb-86e0-ebf05915b7c1",
   "metadata": {},
   "source": [
    "# GG4257 - Urban Analytics\n",
    "---\n",
    "## Lab Assignment 1\n",
    "---\n",
    "\n",
    "## General Information\n",
    "- **Matriculation Number:** 200022090\n",
    "- **Degree Programme:** Geography MA\n",
    "- **Due Date:** 22nd February 2024\n",
    "\n",
    "## GitHub Repository\n",
    "- **GitHub Link:** https://github.com/saffytaylor/UA_Assignment1\n",
    "\n",
    "## Declaration\n",
    "In submitting this assignment, I hereby confirm that I have read the University's statement on Good Academic Practice. The following work is my own. Significant academic debts and borrowings have been properly acknowledged and referenced."
   ]
  },
  {
   "cell_type": "markdown",
   "id": "aa70caf5-9be1-4d79-8cbf-c0c4de99041c",
   "metadata": {},
   "source": [
    "# Table of Content\n",
    "\n",
    "## taken from the example remember to change and adapt\n",
    "\n",
    "1. [Introduction](#Introducction)\n",
    "    - How to Replicate the Code and Get the Required Data\n",
    "   \n",
    "2. <a href=\"lab_1/lab_1.ipynb#Lab-No-1---Python-Recap:-9-Challenges\">Lab No 1: Python Recap</a>\n",
    "   - <a href=\"lab_1/lab_1.ipynb#Challenge-No-1\">Challenge 1</a>\n",
    "   - <a href=\"lab_1/lab_1.ipynb#Challenge-No-2\">Challenge 2</a>\n",
    "   - <a href=\"lab_1/lab_1.ipynb#Challenge-No-3\">Challenge 3</a>\n",
    "   - ...\n",
    "\n",
    "3. <a href=\"lab_2/Lab_2.ipynb#Lab-No-2:-Data-Manipulation-and-Working-with-Web-Services\">Lab No 2: Data Manipulation and Working with Web Services</a>\n",
    "   - <a href=\"lab_2/Lab_2.ipynb#Challenge-No-1\">Challenge 1</a>\n",
    "   - <a href=\"lab_2/Lab_2.ipynb#Challenge-No-2\">Challenge 2</a>\n",
    "   - ...\n",
    "\n",
    "4. [Lab No 3: Geovisualization Techniques - Data Viz - Part 1](#lab3)\n",
    "    - ...\n",
    "\n",
    "8. [Lab No 4: Geovisualization Techniques - Part 2, Apps](#lab4)\n",
    "    - ... \n",
    "9. [Final Remarks](#Final-Remarks)\n",
    "    - Limitations, Barriers, and Additional Comments\n"
   ]
  },
  {
   "cell_type": "code",
   "execution_count": null,
   "id": "5d4e4395-3133-4c47-9c85-088f00bbf04e",
   "metadata": {},
   "outputs": [],
   "source": []
  }
 ],
 "metadata": {
  "kernelspec": {
   "display_name": "Python 3 (ipykernel)",
   "language": "python",
   "name": "python3"
  },
  "language_info": {
   "codemirror_mode": {
    "name": "ipython",
    "version": 3
   },
   "file_extension": ".py",
   "mimetype": "text/x-python",
   "name": "python",
   "nbconvert_exporter": "python",
   "pygments_lexer": "ipython3",
   "version": "3.11.6"
  }
 },
 "nbformat": 4,
 "nbformat_minor": 5
}
